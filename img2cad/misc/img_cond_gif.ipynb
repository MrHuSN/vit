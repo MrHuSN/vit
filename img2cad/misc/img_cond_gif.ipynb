{
 "metadata": {
  "language_info": {
   "codemirror_mode": {
    "name": "ipython",
    "version": 3
   },
   "file_extension": ".py",
   "mimetype": "text/x-python",
   "name": "python",
   "nbconvert_exporter": "python",
   "pygments_lexer": "ipython3",
   "version": "3.7.4-final"
  },
  "orig_nbformat": 2,
  "kernelspec": {
   "name": "python37464bitabcconda1b3a0616c0864f4084bfbb5323a880dc",
   "display_name": "Python 3.7.4 64-bit ('abc': conda)",
   "language": "python"
  }
 },
 "nbformat": 4,
 "nbformat_minor": 2,
 "cells": [
  {
   "cell_type": "code",
   "execution_count": null,
   "metadata": {},
   "outputs": [],
   "source": [
    "import os\n",
    "import random\n",
    "from tqdm import tqdm\n",
    "import numpy as np\n",
    "import matplotlib.pyplot as plt\n",
    "\n",
    "from skimage import io\n",
    "from skimage.metrics import structural_similarity as ssim"
   ]
  },
  {
   "cell_type": "code",
   "execution_count": null,
   "metadata": {},
   "outputs": [],
   "source": [
    "# Helper functions\n",
    "def read_img(img_path):\n",
    "    return io.imread(img_path)[:,:,0]\n",
    "\n",
    "def show_img(img, ax):\n",
    "    plt.imshow(img, cmap='gray')\n",
    "    ax.set_yticklabels([])\n",
    "    ax.set_xticklabels([])\n",
    "    _ = [line.set_marker('None') for line in ax.get_xticklines()] \n",
    "    _ = [line.set_marker('None') for line in ax.get_yticklines()] "
   ]
  },
  {
   "cell_type": "code",
   "execution_count": null,
   "metadata": {},
   "outputs": [],
   "source": [
    "root_dir = '../results/week_0101/cond_gif_2_one'\n",
    "save_dir = '../results/week_0101/imgs_for_final_model'\n",
    "os.makedirs(save_dir)"
   ]
  },
  {
   "cell_type": "code",
   "execution_count": null,
   "metadata": {},
   "outputs": [],
   "source": [
    "num_val_imgs = 20\n",
    "topk = 5  # top-k to keep (via SSIM)\n",
    "epoch = 1\n",
    "iter = 10\n",
    "for model_idx in tqdm(range(len(os.listdir(root_dir)))):\n",
    "    subplot_idx = 1\n",
    "    for val_idx in sorted(os.listdir(os.path.join(root_dir, str(model_idx)))):\n",
    "        val_img_path = os.path.join(root_dir, str(model_idx), val_idx)\n",
    "        ref_img = read_img(os.path.join(val_img_path, '0_cond_img.png'))\n",
    "        ax = plt.subplot(num_val_imgs, topk+1, subplot_idx)\n",
    "        # if val_idx == '0':\n",
    "        #     ax.set_title('Input', fontsize=8)\n",
    "        show_img(ref_img, ax)\n",
    "        subplot_idx += 1\n",
    "        # Get scores\n",
    "        comp_imgs = [read_img(os.path.join(val_img_path, img_f)) for img_f in\n",
    "            os.listdir(val_img_path) if 'cond' not in img_f]\n",
    "        scores = [ssim(ref_img, comp_img) for comp_img in comp_imgs]\n",
    "        # Sort by score and display images\n",
    "        idxs = np.argsort(scores)\n",
    "        for idx in list(reversed(idxs))[:topk]:\n",
    "            ax = plt.subplot(num_val_imgs, topk+1, subplot_idx)\n",
    "            show_img(comp_imgs[idx], ax)\n",
    "            subplot_idx += 1\n",
    "    fig = plt.gcf()\n",
    "    fig.set_size_inches(topk*0.8, num_val_imgs*0.8)\n",
    "    # fig.suptitle(\"Epoch %i, Iteration %iK\" % (epoch, iter), fontsize=10)\n",
    "    if iter == 30:\n",
    "        epoch += 1\n",
    "    iter += 10\n",
    "    if iter > 30:\n",
    "        iter = 10\n",
    "    plt.savefig(os.path.join(save_dir, '%02i.png' % model_idx), dpi=200)\n",
    "    plt.close()"
   ]
  }
 ]
}