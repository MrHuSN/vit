{
 "cells": [
  {
   "cell_type": "markdown",
   "metadata": {},
   "source": [
    "Developing sketch primitive noisifier"
   ]
  },
  {
   "cell_type": "code",
   "execution_count": null,
   "metadata": {
    "tags": []
   },
   "outputs": [],
   "source": [
    "%load_ext autoreload\n",
    "%autoreload 2\n",
    "\n",
    "import os\n",
    "from copy import deepcopy\n",
    "from tqdm import tqdm\n",
    "import numpy as np\n",
    "import matplotlib.pyplot as plt\n",
    "from skimage import io\n",
    "\n",
    "from sketchgraphs.data import flat_array\n",
    "import sketchgraphs.data as datalib\n",
    "\n",
    "import img2cad.data_utils as i2c_utils\n",
    "from img2cad.prerender_images import _render_and_save"
   ]
  },
  {
   "cell_type": "code",
   "execution_count": null,
   "metadata": {
    "tags": []
   },
   "outputs": [],
   "source": [
    "seq_data = flat_array.load_dictionary_flat('../data/sequence_data/sg_t16_validation.npy')\n",
    "seqs = seq_data['sequences'][:50000]\n",
    "sketches = [datalib.sketch_from_sequence(seq) for seq in tqdm(seqs)]"
   ]
  },
  {
   "cell_type": "code",
   "execution_count": null,
   "metadata": {},
   "outputs": [],
   "source": [
    "def my_render(sketch):\n",
    "    _render_and_save(sketch, 'tmp.png', size=64,\n",
    "        enforce_normalized=False, force_06=True)\n",
    "    img = io.imread('tmp.png')\n",
    "    plt.imshow(img)\n",
    "    ax.set_yticklabels([])\n",
    "    ax.set_xticklabels([])\n",
    "    _ = [line.set_marker('None') for line in ax.get_xticklines()] \n",
    "    _ = [line.set_marker('None') for line in ax.get_yticklines()]\n",
    "    os.remove('tmp.png')"
   ]
  },
  {
   "cell_type": "code",
   "execution_count": null,
   "metadata": {},
   "outputs": [],
   "source": [
    "num_sketches = 8\n",
    "num_noisings = 5\n",
    "num_frames = 20\n",
    "save_dir = 'noise_imgs'\n",
    "os.makedirs(save_dir)\n",
    "if os.path.exists('viable_sketches.npy'):\n",
    "    viable_sketches = np.load('viable_sketches.npy', allow_pickle=True)\n",
    "else:\n",
    "    viable_sketches = [sk for sk in sketches if len(sk.entities) >= 6]\n",
    "    viable_sketches = np.random.choice(viable_sketches, size=num_sketches)\n",
    "for frame_idx in tqdm(range(num_frames)):\n",
    "    plot_idx = 1\n",
    "    for sketch in viable_sketches:\n",
    "        i2c_utils.normalize_sketch(sketch)\n",
    "        ax = plt.subplot(num_sketches, num_noisings+1, plot_idx)\n",
    "        my_render(sketch)\n",
    "        if plot_idx == 1:\n",
    "            ax.set_title('Original', fontsize=8)\n",
    "        plot_idx += 1\n",
    "        for _ in range(num_noisings):\n",
    "            new_sketch = deepcopy(sketch)\n",
    "            i2c_utils.noisify_sketch_ents(new_sketch)\n",
    "            i2c_utils.noisify_sketch_global(new_sketch)\n",
    "            ax = plt.subplot(num_sketches, num_noisings+1, plot_idx)\n",
    "            plot_idx += 1\n",
    "            my_render(new_sketch)\n",
    "    plt.savefig(os.path.join(save_dir, '%02i.png' % frame_idx), dpi=200)\n"
   ]
  },
  {
   "cell_type": "code",
   "execution_count": null,
   "metadata": {},
   "outputs": [],
   "source": []
  }
 ],
 "metadata": {
  "kernelspec": {
   "display_name": "Python 3.7.4 64-bit ('abc': conda)",
   "language": "python",
   "name": "python37464bitabcconda1b3a0616c0864f4084bfbb5323a880dc"
  },
  "language_info": {
   "codemirror_mode": {
    "name": "ipython",
    "version": 3
   },
   "file_extension": ".py",
   "mimetype": "text/x-python",
   "name": "python",
   "nbconvert_exporter": "python",
   "pygments_lexer": "ipython3",
   "version": "3.7.4-final"
  }
 },
 "nbformat": 4,
 "nbformat_minor": 2
}